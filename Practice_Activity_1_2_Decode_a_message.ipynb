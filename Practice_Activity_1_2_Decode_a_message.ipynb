{
  "cells": [
    {
      "cell_type": "raw",
      "metadata": {
        "id": "Wm7rfPnRrrqm"
      },
      "source": [
        "---\n",
        "title: 'Practice Activity: Basic Syntax'\n",
        "format:\n",
        "  html:\n",
        "    embed-resources: true\n",
        "---"
      ]
    },
    {
      "cell_type": "markdown",
      "metadata": {
        "id": "0mbR_4URrrqo"
      },
      "source": [
        "## Overview\n",
        "\n",
        "In this PA, you will will be creating and manipulating basic objects to uncover a top secret message.\n",
        "\n",
        "### Hint 1\n",
        "\n",
        "As you work through this PA, you will encounter some code that does not work as you want it to.  Don't despair!  Errors (when R is unable to run your code) and bugs (when the code doesn't do what you hoped) are a natural part of coding.  Even the best of the best deal with these problems regularly - learning to track down the issue is a skill that you can learn and practice.\n",
        "\n",
        "Google is your friend!  If an error is confusing, copy it into Google and see what other people are saying.  If you don't know how to do something, search for it.\n",
        "\n",
        "### Hint 2\n",
        "\n",
        "Just because there is no error message doesn't mean everything went smoothly.  You should be regularly printing out your objects, to see they contain the information and format that you expect.\n",
        "\n",
        "For example, if you have an object named `my_thing`, you might first want to simply look at the object by typing its name.\n",
        "\n",
        "However, you might also want to make sure it is the right **object type** and/or the right **object structure**.\n"
      ]
    },
    {
      "cell_type": "code",
      "execution_count": null,
      "metadata": {
        "colab": {
          "base_uri": "https://localhost:8080/"
        },
        "id": "D5pSzgxjrrqq",
        "outputId": "d8cd6973-c770-43d8-c656-4ada6d75fd47"
      },
      "outputs": [
        {
          "data": {
            "text/plain": [
              "8"
            ]
          },
          "execution_count": 60,
          "metadata": {},
          "output_type": "execute_result"
        }
      ],
      "source": [
        "my_thing = \"my thing\"\n",
        "type(my_thing)\n",
        "len(my_thing)"
      ]
    },
    {
      "cell_type": "markdown",
      "metadata": {
        "id": "QpUJsmq0rrqr"
      },
      "source": [
        "## Part One: Setup\n",
        "\n",
        "Each of the following code chunks will cause an error and/or do the desired task incorrectly.  Find the mistake, and correct it to complete the intended action.\n",
        "\n",
        "\n",
        "\n",
        "\n",
        "1. Create lists containing the upper case letters, lower case letters, and some punctuation marks.\n"
      ]
    },
    {
      "cell_type": "code",
      "execution_count": null,
      "metadata": {
        "id": "tk5bezBJrrqs"
      },
      "outputs": [],
      "source": [
        "lower_case = [\"a\", \"b\", \"c\", \"d\", \"e\", \"f\", \"g\", \"h\", \"i\", \"j\", \"k\", \"l\", \"m\", \"n\", \"o\", \"p\", \"q\", \"r\", \"s\", \"t\", \"u\", \"v\", \"w\", \"x\", \"y\", \"z\"]\n",
        "\n",
        "upper_case = [\"A\", \"B\", \"C\", \"D\", \"E\", \"F\", \"G\", \"H\", \"I\", \"J\", \"K\", \"L\", \"M\", \"N\", \"O\", \"P\", \"Q\", \"R\", \"S\", \"T\", \"U\", \"V\", \"W\", \"X\", \"Y\", \"Z\"]\n",
        "\n",
        "punctuation = [\".\", \",\", \"!\", \"?\", \"'\", '\"', \"(\", \")\", \" \", \"-\", \";\", \":\"]"
      ]
    },
    {
      "cell_type": "markdown",
      "metadata": {
        "id": "ZejwK6urrrqs"
      },
      "source": [
        "2. Make one long list containing all the symbols.  Find the length of this list.\n"
      ]
    },
    {
      "cell_type": "code",
      "execution_count": null,
      "metadata": {
        "colab": {
          "base_uri": "https://localhost:8080/"
        },
        "id": "l8ZVLLXWrrqs",
        "outputId": "98b2ca6a-fd6e-4d3d-c439-8d8fa7cfbb39"
      },
      "outputs": [
        {
          "data": {
            "text/plain": [
              "3"
            ]
          },
          "execution_count": 62,
          "metadata": {},
          "output_type": "execute_result"
        }
      ],
      "source": [
        "all_symbols = [lower_case, upper_case, punctuation]\n",
        "\n",
        "len(all_symbols)"
      ]
    },
    {
      "cell_type": "markdown",
      "metadata": {
        "id": "HvgV76Dbrrqt"
      },
      "source": [
        "3. Repeat the previous steps, but instead of using *list* type objects, use **numpy arrays**.  Don't forget to **import** the numpy library!\n"
      ]
    },
    {
      "cell_type": "code",
      "execution_count": null,
      "metadata": {
        "id": "x9YyIMP6rrqt"
      },
      "outputs": [],
      "source": [
        "import numpy as np\n",
        "\n",
        "lower_case = np.array([\"a\", \"b\", \"c\", \"d\", \"e\", \"f\", \"g\", \"h\", \"i\", \"j\", \"k\", \"l\", \"m\", \"n\", \"o\", \"p\", \"q\", \"r\", \"s\", \"t\", \"u\", \"v\", \"w\", \"x\", \"y\", \"z\"])\n",
        "\n",
        "upper_case = np.array([\"A\", \"B\", \"C\", \"D\", \"E\", \"F\", \"G\", \"H\", \"I\", \"J\", \"K\", \"L\", \"M\", \"N\", \"O\", \"P\", \"Q\", \"R\", \"S\", \"T\", \"U\", \"V\", \"W\", \"X\", \"Y\", \"Z\"])\n",
        "\n",
        "punctuation = np.array([\".\", \",\", \"!\", \"?\", \"'\", '\"', \"\\\"\", \"(\", \")\", \" \", \"-\", \";\", \":\"])\n",
        "\n",
        "## Use np.concatenate to combine into long array\n",
        "all_symbols = np.concatenate((lower_case, upper_case, punctuation))"
      ]
    },
    {
      "cell_type": "markdown",
      "metadata": {
        "id": "rpbAtPlXrrqt"
      },
      "source": [
        "4. Make a **pandas data frame**, with one column called \"Symbol\" containing the `all_symbols` array.\n"
      ]
    },
    {
      "cell_type": "code",
      "execution_count": null,
      "metadata": {
        "id": "K103ZvNVrrqu"
      },
      "outputs": [],
      "source": [
        "import pandas as pd\n",
        "\n",
        "symbols_df = pd.DataFrame(all_symbols)\n",
        "\n",
        "symbols_df = symbols_df.rename(columns = {0: \"Symbol\"})"
      ]
    },
    {
      "cell_type": "markdown",
      "metadata": {
        "id": "L-m2LLyHrrqu"
      },
      "source": [
        "## Part Two: Decoding the secret message.\n"
      ]
    },
    {
      "cell_type": "code",
      "execution_count": null,
      "metadata": {
        "id": "iP7Zj5hPrrqu"
      },
      "outputs": [],
      "source": [
        "top_secret = pd.read_csv(\"https://www.dropbox.com/s/k72h1zewk4gtqep/PA_Secret_Code?dl=1\", header=None)\n",
        "\n",
        "top_secret = top_secret[0].to_numpy()"
      ]
    },
    {
      "cell_type": "code",
      "execution_count": null,
      "metadata": {
        "collapsed": true,
        "id": "DBZos-u5j1CW"
      },
      "outputs": [],
      "source": [
        "top_secret_2 = (np.exp(((top_secret + 14) * 18) - 257)) ** 2"
      ]
    },
    {
      "cell_type": "code",
      "execution_count": null,
      "metadata": {
        "colab": {
          "base_uri": "https://localhost:8080/"
        },
        "id": "rXhHCr65qi9X",
        "outputId": "4283d4dc-9848-4289-b81a-47c5451db757"
      },
      "outputs": [
        {
          "data": {
            "text/plain": [
              "np.int64(352)"
            ]
          },
          "execution_count": 67,
          "metadata": {},
          "output_type": "execute_result"
        }
      ],
      "source": [
        "count_below_17 = (top_secret_2 < 17).sum()\n",
        "count_below_17"
      ]
    },
    {
      "cell_type": "code",
      "execution_count": null,
      "metadata": {
        "collapsed": true,
        "id": "xDZmPIBcm9xO"
      },
      "outputs": [],
      "source": [
        "rows = len(top_secret) // 5\n",
        "top_secret_df = top_secret_2.reshape((rows, 5), order = \"F\")"
      ]
    },
    {
      "cell_type": "code",
      "execution_count": null,
      "metadata": {
        "id": "z_7xVeIEkg7I"
      },
      "outputs": [],
      "source": [
        "evens = np.arange(2, 383, 2)"
      ]
    },
    {
      "cell_type": "code",
      "execution_count": null,
      "metadata": {
        "colab": {
          "base_uri": "https://localhost:8080/"
        },
        "collapsed": true,
        "id": "Q8KmIQh7oDKM",
        "outputId": "217989b4-38c5-4d16-cdd2-732183e517e1"
      },
      "outputs": [
        {
          "data": {
            "text/plain": [
              "array([5.700e+01, 4.600e+01, 2.300e+01, 1.000e+00, 1.900e+01, 6.100e+01,\n",
              "       2.000e+00, 1.800e+01, 9.000e+00, 1.200e+01, 1.200e+01, 9.000e+00,\n",
              "       7.000e+00, 5.400e+01, 6.100e+01, 1.000e+00, 1.400e+01, 4.000e+00,\n",
              "       6.100e+01, 3.900e+01, 8.000e+00, 5.000e+00, 6.100e+01, 1.900e+01,\n",
              "       1.200e+01, 9.000e+00, 3.900e+01, 8.000e+00, 2.500e+01, 6.100e+01,\n",
              "       3.900e+01, 1.500e+01, 2.200e+01, 5.000e+00, 1.900e+01, 6.100e+01,\n",
              "       6.100e+01, 3.721e+03, 9.000e+02, 8.100e+01, 1.600e+01, 3.721e+03,\n",
              "       4.900e+01, 6.250e+02, 3.240e+02, 2.500e+01, 3.721e+03, 1.000e+00,\n",
              "       1.960e+02, 1.600e+01, 3.721e+03, 4.900e+01, 8.100e+01, 1.690e+02,\n",
              "       4.000e+00, 1.440e+02, 2.500e+01, 3.721e+03, 8.100e+01, 1.960e+02,\n",
              "       3.721e+03, 1.521e+03, 6.400e+01, 2.500e+01, 3.721e+03, 5.290e+02,\n",
              "       1.000e+00, 4.000e+00, 2.500e+01, 4.096e+03, 3.721e+03, 7.290e+02,\n",
              "       1.440e+02, 1.440e+02, 3.721e+03, 1.690e+02, 8.100e+01, 1.690e+02,\n",
              "       3.610e+02, 6.250e+02, 3.721e+03, 5.290e+02, 2.500e+01, 3.240e+02,\n",
              "       2.500e+01, 3.721e+03, 1.521e+03, 6.400e+01, 2.500e+01, 3.721e+03,\n",
              "       4.000e+00, 2.250e+02, 3.240e+02, 2.250e+02, 4.900e+01, 2.250e+02,\n",
              "       4.840e+02, 2.500e+01, 3.610e+02, 2.916e+03, 3.721e+03, 3.721e+03,\n",
              "       3.721e+03, 7.290e+02, 1.960e+02, 1.600e+01, 3.721e+03, 1.521e+03,\n",
              "       6.400e+01, 2.500e+01, 3.721e+03, 1.690e+02, 2.250e+02, 1.690e+02,\n",
              "       2.500e+01, 3.721e+03, 3.240e+02, 1.000e+00, 1.521e+03, 6.400e+01,\n",
              "       3.610e+02, 3.721e+03, 2.250e+02, 4.410e+02, 1.521e+03, 4.900e+01,\n",
              "       3.240e+02, 1.000e+00, 4.000e+00, 2.500e+01, 2.809e+03, 3.721e+03,\n",
              "       3.364e+03, 7.840e+02, 2.500e+01, 5.290e+02, 1.000e+00, 3.240e+02,\n",
              "       2.500e+01, 3.721e+03, 1.521e+03, 6.400e+01, 2.500e+01, 3.721e+03,\n",
              "       1.296e+03, 1.000e+00, 4.000e+00, 4.000e+00, 2.500e+01, 3.240e+02,\n",
              "       5.290e+02, 2.250e+02, 9.000e+00, 1.210e+02, 2.916e+03, 3.721e+03,\n",
              "       1.690e+02, 6.250e+02, 3.721e+03, 3.610e+02, 2.250e+02, 1.960e+02,\n",
              "       3.025e+03, 3.721e+03, 3.721e+03, 3.721e+03, 2.116e+03, 6.400e+01,\n",
              "       2.500e+01, 3.721e+03, 1.000e+02, 1.000e+00, 5.290e+02, 3.610e+02,\n",
              "       3.721e+03, 1.521e+03, 6.400e+01, 1.000e+00, 1.521e+03, 3.721e+03,\n",
              "       4.000e+00, 8.100e+01, 1.521e+03, 2.500e+01, 2.916e+03, 3.721e+03,\n",
              "       1.521e+03, 6.400e+01, 2.500e+01, 3.721e+03, 9.000e+00])"
            ]
          },
          "execution_count": 70,
          "metadata": {},
          "output_type": "execute_result"
        }
      ],
      "source": [
        "top_secret_df[:, 0] = top_secret_df[:, 0] - evens\n",
        "top_secret_df[:, 0]"
      ]
    },
    {
      "cell_type": "code",
      "execution_count": null,
      "metadata": {
        "colab": {
          "base_uri": "https://localhost:8080/"
        },
        "id": "GAK8edenq2it",
        "outputId": "e17aac53-57a7-48b8-9cf5-affa57569b14"
      },
      "outputs": [
        {
          "data": {
            "text/plain": [
              "array([  64.,  225.,  441.,   49.,   64., 1521., 2809.])"
            ]
          },
          "execution_count": 71,
          "metadata": {},
          "output_type": "execute_result"
        }
      ],
      "source": [
        "top_secret_df[17:24, 2] = top_secret_df[17:24, 2] - 100\n",
        "top_secret_df[17:24, 2]"
      ]
    },
    {
      "cell_type": "code",
      "execution_count": null,
      "metadata": {
        "colab": {
          "base_uri": "https://localhost:8080/"
        },
        "collapsed": true,
        "id": "0pRvSpfCrPQ9",
        "outputId": "63042d00-4d86-480d-a7ad-b276e56428a4"
      },
      "outputs": [
        {
          "data": {
            "text/plain": [
              "array([18., 15., 21.,  7.,  8., 61.,  1., 14.,  4., 61., 39.,  8., 18.,\n",
              "       15., 21.,  7.,  8., 61., 61., 61., 46.,  8.,  5., 61., 22., 15.,\n",
              "       18., 16.,  1., 12., 61.,  2., 12.,  1.,  4.,  5., 61., 23.,  5.,\n",
              "       14., 39., 61., 19., 14.,  9.,  3., 11.,  5., 18., 62., 19., 14.,\n",
              "        1.,  3., 11., 55., 61., 34.,  5., 61., 12.,  5.,  6., 39., 61.,\n",
              "        9., 39., 61.,  4.,  5.,  1.,  4., 54., 61.,  1., 14.,  4., 61.,\n",
              "       23.,  9., 39.,  8., 61.,  9., 39., 19., 61.,  8.,  5.,  1.,  4.,\n",
              "       61., 61., 61., 34.,  5., 61., 23.,  5., 14., 39., 61.,  7.,  1.,\n",
              "       12., 21., 13., 16.,  8.,  9., 14.,  7., 61.,  2.,  1.,  3., 11.,\n",
              "       53., 61., 58., 27., 14.,  4., 61.,  8.,  1., 19., 39., 61., 39.,\n",
              "        8., 15., 21., 61., 19., 12.,  1.,  9., 14., 61., 39.,  8.,  5.,\n",
              "       61., 36.,  1.,  2.,  2.,  5., 18., 23., 15.,  3., 11., 56., 61.,\n",
              "       61., 61., 29., 15., 13.,  5., 61., 39., 15., 61., 13., 25., 61.,\n",
              "        1., 18., 13., 19., 54., 61., 13., 25., 61.,  2.,  5.,  1., 13.,\n",
              "        9., 19.,  8., 61.,  2., 15., 25., 55., 61.])"
            ]
          },
          "execution_count": 72,
          "metadata": {},
          "output_type": "execute_result"
        }
      ],
      "source": [
        "top_secret_df[:, 3] = top_secret_df[:, 3] * 2\n",
        "top_secret_df[:, 3]"
      ]
    },
    {
      "cell_type": "code",
      "execution_count": null,
      "metadata": {
        "colab": {
          "base_uri": "https://localhost:8080/"
        },
        "collapsed": true,
        "id": "4WXNxChWrZrb",
        "outputId": "66618210-5d53-4dca-e823-7857d681e300"
      },
      "outputs": [
        {
          "data": {
            "text/plain": [
              "array([41., 61.,  6., 18.,  1.,  2., 10., 15., 21., 19., 61.,  4.,  1.,\n",
              "       25., 55., 61., 29.,  1., 12., 12., 15., 15.,  8., 55., 61., 29.,\n",
              "        1., 12., 12.,  1., 25., 55., 58., 61., 61., 61., 34.,  5., 61.,\n",
              "        3.,  8., 15., 18., 39., 12.,  5.,  4., 61.,  9., 14., 61.,  8.,\n",
              "        9., 19., 61., 10., 15., 25., 53., 61., 57., 46., 23.,  1., 19.,\n",
              "       61.,  2., 18.,  9., 12., 12.,  9.,  7., 54., 61.,  1., 14.,  4.,\n",
              "       61., 39.,  8.,  5., 61., 19., 12.,  9., 39.,  8., 25., 61., 39.,\n",
              "       15., 22.,  5., 19., 61., 61., 61., 30.,  9.,  4., 61.,  7., 25.,\n",
              "       18.,  5., 61.,  1., 14.,  4., 61.,  7.,  9., 13.,  2., 12.,  5.,\n",
              "       61.,  9., 14., 61., 39.,  8.,  5., 61., 23.,  1.,  2.,  5., 64.,\n",
              "       61., 27., 12., 12., 61., 13.,  9., 13., 19., 25., 61., 23.,  5.,\n",
              "       18.,  5., 61., 39.,  8.,  5., 61.,  2., 15., 18., 15.,  7., 15.,\n",
              "       22.,  5., 19., 54., 61., 61., 61., 27., 14.,  4., 61., 39.,  8.,\n",
              "        5., 61., 13., 15., 13.,  5., 61., 18.,  1., 39.,  8., 19., 61.,\n",
              "       15., 21., 39.,  7., 18.,  1.,  2.,  5., 53.])"
            ]
          },
          "execution_count": 73,
          "metadata": {},
          "output_type": "execute_result"
        }
      ],
      "source": [
        "top_secret_df[:, 4] = top_secret_df[:, 4] * 2\n",
        "top_secret_df[:, 4]"
      ]
    },
    {
      "cell_type": "code",
      "execution_count": null,
      "metadata": {
        "colab": {
          "base_uri": "https://localhost:8080/"
        },
        "collapsed": true,
        "id": "IyWGL5yRrdUZ",
        "outputId": "736ae259-72ff-4a53-aed7-9966bc6d6d1d"
      },
      "outputs": [
        {
          "data": {
            "text/plain": [
              "array([5.700e+01, 4.600e+01, 2.300e+01, 1.000e+00, 1.900e+01, 6.100e+01,\n",
              "       2.000e+00, 1.800e+01, 9.000e+00, 1.200e+01, 1.200e+01, 9.000e+00,\n",
              "       7.000e+00, 5.400e+01, 6.100e+01, 1.000e+00, 1.400e+01, 4.000e+00,\n",
              "       6.100e+01, 3.900e+01, 8.000e+00, 5.000e+00, 6.100e+01, 1.900e+01,\n",
              "       1.200e+01, 9.000e+00, 3.900e+01, 8.000e+00, 2.500e+01, 6.100e+01,\n",
              "       3.900e+01, 1.500e+01, 2.200e+01, 5.000e+00, 1.900e+01, 6.100e+01,\n",
              "       6.100e+01, 3.721e+03, 9.000e+02, 8.100e+01, 1.600e+01, 3.721e+03,\n",
              "       4.900e+01, 6.250e+02, 3.240e+02, 2.500e+01, 3.721e+03, 1.000e+00,\n",
              "       1.960e+02, 1.600e+01, 3.721e+03, 4.900e+01, 8.100e+01, 1.690e+02,\n",
              "       4.000e+00, 1.440e+02, 2.500e+01, 3.721e+03, 8.100e+01, 1.960e+02,\n",
              "       3.721e+03, 1.521e+03, 6.400e+01, 2.500e+01, 3.721e+03, 5.290e+02,\n",
              "       1.000e+00, 4.000e+00, 2.500e+01, 4.096e+03, 3.721e+03, 7.290e+02,\n",
              "       1.440e+02, 1.440e+02, 3.721e+03, 1.690e+02, 8.100e+01, 1.690e+02,\n",
              "       3.610e+02, 6.250e+02, 3.721e+03, 5.290e+02, 2.500e+01, 3.240e+02,\n",
              "       2.500e+01, 3.721e+03, 1.521e+03, 6.400e+01, 2.500e+01, 3.721e+03,\n",
              "       4.000e+00, 2.250e+02, 3.240e+02, 2.250e+02, 4.900e+01, 2.250e+02,\n",
              "       4.840e+02, 2.500e+01, 3.610e+02, 2.916e+03, 3.721e+03, 3.721e+03,\n",
              "       3.721e+03, 7.290e+02, 1.960e+02, 1.600e+01, 3.721e+03, 1.521e+03,\n",
              "       6.400e+01, 2.500e+01, 3.721e+03, 1.690e+02, 2.250e+02, 1.690e+02,\n",
              "       2.500e+01, 3.721e+03, 3.240e+02, 1.000e+00, 1.521e+03, 6.400e+01,\n",
              "       3.610e+02, 3.721e+03, 2.250e+02, 4.410e+02, 1.521e+03, 4.900e+01,\n",
              "       3.240e+02, 1.000e+00, 4.000e+00, 2.500e+01, 2.809e+03, 3.721e+03,\n",
              "       3.364e+03, 7.840e+02, 2.500e+01, 5.290e+02, 1.000e+00, 3.240e+02,\n",
              "       2.500e+01, 3.721e+03, 1.521e+03, 6.400e+01, 2.500e+01, 3.721e+03,\n",
              "       1.296e+03, 1.000e+00, 4.000e+00, 4.000e+00, 2.500e+01, 3.240e+02,\n",
              "       5.290e+02, 2.250e+02, 9.000e+00, 1.210e+02, 2.916e+03, 3.721e+03,\n",
              "       1.690e+02, 6.250e+02, 3.721e+03, 3.610e+02, 2.250e+02, 1.960e+02,\n",
              "       3.025e+03, 3.721e+03, 3.721e+03, 3.721e+03, 2.116e+03, 6.400e+01,\n",
              "       2.500e+01, 3.721e+03, 1.000e+02, 1.000e+00, 5.290e+02, 3.610e+02,\n",
              "       3.721e+03, 1.521e+03, 6.400e+01, 1.000e+00, 1.521e+03, 3.721e+03,\n",
              "       4.000e+00, 8.100e+01, 1.521e+03, 2.500e+01, 2.916e+03, 3.721e+03,\n",
              "       1.521e+03, 6.400e+01, 2.500e+01, 3.721e+03, 9.000e+00, 1.440e+02,\n",
              "       1.000e+00, 5.290e+02, 3.610e+02, 3.721e+03, 1.521e+03, 6.400e+01,\n",
              "       1.000e+00, 1.521e+03, 3.721e+03, 9.000e+00, 1.000e+00, 1.521e+03,\n",
              "       9.000e+00, 6.400e+01, 3.025e+03, 3.721e+03, 7.840e+02, 2.500e+01,\n",
              "       5.290e+02, 1.000e+00, 3.240e+02, 2.500e+01, 3.721e+03, 1.521e+03,\n",
              "       6.400e+01, 2.500e+01, 3.721e+03, 1.296e+03, 4.410e+02, 4.000e+00,\n",
              "       1.000e+02, 4.410e+02, 4.000e+00, 3.721e+03, 4.000e+00, 8.100e+01,\n",
              "       3.240e+02, 1.600e+01, 2.916e+03, 3.721e+03, 1.000e+00, 1.960e+02,\n",
              "       1.600e+01, 3.721e+03, 3.610e+02, 6.400e+01, 4.410e+02, 1.960e+02,\n",
              "       3.721e+03, 3.721e+03, 3.721e+03, 2.116e+03, 6.400e+01, 2.500e+01,\n",
              "       3.721e+03, 3.600e+01, 3.240e+02, 4.410e+02, 1.690e+02, 8.100e+01,\n",
              "       2.250e+02, 4.410e+02, 3.610e+02, 3.721e+03, 7.840e+02, 1.000e+00,\n",
              "       1.960e+02, 1.600e+01, 2.500e+01, 3.240e+02, 3.610e+02, 1.960e+02,\n",
              "       1.000e+00, 1.521e+03, 9.000e+00, 6.400e+01, 3.025e+03, 3.364e+03,\n",
              "       3.721e+03, 1.156e+03, 2.500e+01, 3.721e+03, 1.521e+03, 2.250e+02,\n",
              "       2.250e+02, 1.210e+02, 3.721e+03, 6.400e+01, 8.100e+01, 3.610e+02,\n",
              "       3.721e+03, 4.840e+02, 2.250e+02, 3.240e+02, 2.560e+02, 1.000e+00,\n",
              "       1.440e+02, 3.721e+03, 3.610e+02, 5.290e+02, 2.250e+02, 3.240e+02,\n",
              "       1.600e+01, 3.721e+03, 8.100e+01, 1.960e+02, 3.721e+03, 6.400e+01,\n",
              "       1.000e+00, 1.960e+02, 1.600e+01, 3.969e+03, 3.721e+03, 3.721e+03,\n",
              "       3.721e+03, 1.444e+03, 2.250e+02, 1.960e+02, 4.900e+01, 3.721e+03,\n",
              "       1.521e+03, 8.100e+01, 1.690e+02, 2.500e+01, 3.721e+03, 1.521e+03,\n",
              "       6.400e+01, 2.500e+01, 3.721e+03, 1.690e+02, 1.000e+00, 1.960e+02,\n",
              "       5.760e+02, 2.250e+02, 1.690e+02, 2.500e+01, 3.721e+03, 3.600e+01,\n",
              "       2.250e+02, 2.500e+01, 3.721e+03, 6.400e+01, 2.500e+01, 3.721e+03,\n",
              "       3.610e+02, 2.250e+02, 4.410e+02, 4.900e+01, 6.400e+01, 1.521e+03,\n",
              "       3.844e+03, 3.721e+03, 2.025e+03, 2.250e+02, 3.721e+03, 3.240e+02,\n",
              "       2.500e+01, 3.610e+02, 1.521e+03, 2.500e+01, 1.600e+01, 3.721e+03,\n",
              "       6.400e+01, 2.500e+01, 3.721e+03, 4.000e+00, 6.250e+02, 3.721e+03,\n",
              "       1.521e+03, 6.400e+01, 2.500e+01, 3.721e+03, 2.116e+03, 4.410e+02,\n",
              "       1.690e+02, 1.521e+03, 4.410e+02, 1.690e+02, 3.721e+03, 1.521e+03,\n",
              "       3.240e+02, 2.500e+01, 2.500e+01, 3.721e+03, 3.721e+03, 3.721e+03,\n",
              "       7.290e+02, 1.960e+02, 1.600e+01, 3.721e+03, 3.610e+02, 1.521e+03,\n",
              "       2.250e+02, 2.250e+02, 1.600e+01, 3.721e+03, 1.000e+00, 5.290e+02,\n",
              "       6.400e+01, 8.100e+01, 1.440e+02, 2.500e+01, 3.721e+03, 8.100e+01,\n",
              "       1.960e+02, 3.721e+03, 1.521e+03, 6.400e+01, 2.250e+02, 4.410e+02,\n",
              "       4.900e+01, 6.400e+01, 1.521e+03, 2.809e+03, 3.721e+03, 7.290e+02,\n",
              "       1.960e+02, 1.600e+01, 2.916e+03, 3.721e+03, 1.000e+00, 3.610e+02,\n",
              "       3.721e+03, 8.100e+01, 1.960e+02, 3.721e+03, 4.410e+02, 3.600e+01,\n",
              "       3.600e+01, 8.100e+01, 3.610e+02, 6.400e+01, 3.721e+03, 1.521e+03,\n",
              "       6.400e+01, 2.250e+02, 4.410e+02, 4.900e+01, 6.400e+01, 1.521e+03,\n",
              "       3.721e+03, 6.400e+01, 2.500e+01, 3.721e+03, 3.610e+02, 1.521e+03,\n",
              "       2.250e+02, 2.250e+02, 1.600e+01, 2.916e+03, 3.721e+03, 3.721e+03,\n",
              "       3.721e+03, 2.116e+03, 6.400e+01, 2.500e+01, 3.721e+03, 1.296e+03,\n",
              "       1.000e+00, 4.000e+00, 4.000e+00, 2.500e+01, 3.240e+02, 5.290e+02,\n",
              "       2.250e+02, 9.000e+00, 1.210e+02, 2.916e+03, 3.721e+03, 5.290e+02,\n",
              "       8.100e+01, 1.521e+03, 6.400e+01, 6.100e+01, 5.000e+00, 2.500e+01,\n",
              "       5.000e+00, 1.900e+01, 6.100e+01, 1.500e+01, 6.000e+00, 6.100e+01,\n",
              "       6.000e+00, 1.200e+01, 1.000e+00, 1.300e+01, 5.000e+00, 5.400e+01,\n",
              "       6.100e+01, 2.900e+01, 1.000e+00, 1.300e+01, 5.000e+00, 6.100e+01,\n",
              "       2.300e+01, 8.000e+00, 9.000e+00, 6.000e+00, 6.000e+00, 1.200e+01,\n",
              "       9.000e+00, 1.400e+01, 7.000e+00, 6.100e+01, 3.900e+01, 8.000e+00,\n",
              "       1.800e+01, 1.500e+01, 2.100e+01, 7.000e+00, 8.000e+00, 6.100e+01,\n",
              "       3.900e+01, 8.000e+00, 5.000e+00, 6.100e+01, 3.900e+01, 2.100e+01,\n",
              "       1.200e+01, 7.000e+00, 5.000e+00, 2.500e+01, 6.100e+01, 2.300e+01,\n",
              "       1.500e+01, 1.500e+01, 4.000e+00, 5.400e+01, 6.100e+01, 6.100e+01,\n",
              "       6.100e+01, 2.700e+01, 1.400e+01, 4.000e+00, 6.100e+01, 2.000e+00,\n",
              "       2.100e+01, 1.800e+01, 2.000e+00, 1.200e+01, 5.000e+00, 4.000e+00,\n",
              "       6.100e+01, 1.000e+00, 1.900e+01, 6.100e+01, 9.000e+00, 3.900e+01,\n",
              "       6.100e+01, 3.000e+00, 1.000e+00, 1.300e+01, 5.000e+00, 5.500e+01,\n",
              "       6.100e+01, 4.100e+01, 1.400e+01, 5.000e+00, 5.400e+01, 6.100e+01,\n",
              "       3.900e+01, 2.300e+01, 1.500e+01, 5.500e+01, 6.100e+01, 4.100e+01,\n",
              "       1.400e+01, 5.000e+00, 5.400e+01, 6.100e+01, 3.900e+01, 2.300e+01,\n",
              "       1.500e+01, 5.500e+01, 6.100e+01, 2.700e+01, 1.400e+01, 4.000e+00,\n",
              "       6.100e+01, 3.900e+01, 8.000e+00, 1.800e+01, 1.500e+01, 2.100e+01,\n",
              "       7.000e+00, 8.000e+00, 6.100e+01, 1.000e+00, 1.400e+01, 4.000e+00,\n",
              "       6.100e+01, 3.900e+01, 8.000e+00, 1.800e+01, 1.500e+01, 2.100e+01,\n",
              "       7.000e+00, 8.000e+00, 6.100e+01, 6.100e+01, 6.100e+01, 4.600e+01,\n",
              "       8.000e+00, 5.000e+00, 6.100e+01, 2.200e+01, 1.500e+01, 1.800e+01,\n",
              "       1.600e+01, 1.000e+00, 1.200e+01, 6.100e+01, 2.000e+00, 1.200e+01,\n",
              "       1.000e+00, 4.000e+00, 5.000e+00, 6.100e+01, 2.300e+01, 5.000e+00,\n",
              "       1.400e+01, 3.900e+01, 6.100e+01, 1.900e+01, 1.400e+01, 9.000e+00,\n",
              "       3.000e+00, 1.100e+01, 5.000e+00, 1.800e+01, 6.200e+01, 1.900e+01,\n",
              "       1.400e+01, 1.000e+00, 3.000e+00, 1.100e+01, 5.500e+01, 6.100e+01,\n",
              "       3.400e+01, 5.000e+00, 6.100e+01, 1.200e+01, 5.000e+00, 6.000e+00,\n",
              "       3.900e+01, 6.100e+01, 9.000e+00, 3.900e+01, 6.100e+01, 4.000e+00,\n",
              "       5.000e+00, 1.000e+00, 4.000e+00, 5.400e+01, 6.100e+01, 1.000e+00,\n",
              "       1.400e+01, 4.000e+00, 6.100e+01, 2.300e+01, 9.000e+00, 3.900e+01,\n",
              "       8.000e+00, 6.100e+01, 9.000e+00, 3.900e+01, 1.900e+01, 6.100e+01,\n",
              "       8.000e+00, 5.000e+00, 1.000e+00, 4.000e+00, 6.100e+01, 6.100e+01,\n",
              "       6.100e+01, 3.400e+01, 5.000e+00, 6.100e+01, 2.300e+01, 5.000e+00,\n",
              "       1.400e+01, 3.900e+01, 6.100e+01, 7.000e+00, 1.000e+00, 1.200e+01,\n",
              "       2.100e+01, 1.300e+01, 1.600e+01, 8.000e+00, 9.000e+00, 1.400e+01,\n",
              "       7.000e+00, 6.100e+01, 2.000e+00, 1.000e+00, 3.000e+00, 1.100e+01,\n",
              "       5.300e+01, 6.100e+01, 5.800e+01, 2.700e+01, 1.400e+01, 4.000e+00,\n",
              "       6.100e+01, 8.000e+00, 1.000e+00, 1.900e+01, 3.900e+01, 6.100e+01,\n",
              "       3.900e+01, 8.000e+00, 1.500e+01, 2.100e+01, 6.100e+01, 1.900e+01,\n",
              "       1.200e+01, 1.000e+00, 9.000e+00, 1.400e+01, 6.100e+01, 3.900e+01,\n",
              "       8.000e+00, 5.000e+00, 6.100e+01, 3.600e+01, 1.000e+00, 2.000e+00,\n",
              "       2.000e+00, 5.000e+00, 1.800e+01, 2.300e+01, 1.500e+01, 3.000e+00,\n",
              "       1.100e+01, 5.600e+01, 6.100e+01, 6.100e+01, 6.100e+01, 2.900e+01,\n",
              "       1.500e+01, 1.300e+01, 5.000e+00, 6.100e+01, 3.900e+01, 1.500e+01,\n",
              "       6.100e+01, 1.300e+01, 2.500e+01, 6.100e+01, 1.000e+00, 1.800e+01,\n",
              "       1.300e+01, 1.900e+01, 5.400e+01, 6.100e+01, 1.300e+01, 2.500e+01,\n",
              "       6.100e+01, 2.000e+00, 5.000e+00, 1.000e+00, 1.300e+01, 9.000e+00,\n",
              "       1.900e+01, 8.000e+00, 6.100e+01, 2.000e+00, 1.500e+01, 2.500e+01,\n",
              "       5.500e+01, 6.100e+01, 4.100e+01, 6.100e+01, 6.000e+00, 1.800e+01,\n",
              "       1.000e+00, 2.000e+00, 1.000e+01, 1.500e+01, 2.100e+01, 1.900e+01,\n",
              "       6.100e+01, 4.000e+00, 1.000e+00, 2.500e+01, 5.500e+01, 6.100e+01,\n",
              "       2.900e+01, 1.000e+00, 1.200e+01, 1.200e+01, 1.500e+01, 1.500e+01,\n",
              "       8.000e+00, 5.500e+01, 6.100e+01, 2.900e+01, 1.000e+00, 1.200e+01,\n",
              "       1.200e+01, 1.000e+00, 2.500e+01, 5.500e+01, 5.800e+01, 6.100e+01,\n",
              "       6.100e+01, 6.100e+01, 3.400e+01, 5.000e+00, 6.100e+01, 3.000e+00,\n",
              "       8.000e+00, 1.500e+01, 1.800e+01, 3.900e+01, 1.200e+01, 5.000e+00,\n",
              "       4.000e+00, 6.100e+01, 9.000e+00, 1.400e+01, 6.100e+01, 8.000e+00,\n",
              "       9.000e+00, 1.900e+01, 6.100e+01, 1.000e+01, 1.500e+01, 2.500e+01,\n",
              "       5.300e+01, 6.100e+01, 5.700e+01, 4.600e+01, 2.300e+01, 1.000e+00,\n",
              "       1.900e+01, 6.100e+01, 2.000e+00, 1.800e+01, 9.000e+00, 1.200e+01,\n",
              "       1.200e+01, 9.000e+00, 7.000e+00, 5.400e+01, 6.100e+01, 1.000e+00,\n",
              "       1.400e+01, 4.000e+00, 6.100e+01, 3.900e+01, 8.000e+00, 5.000e+00,\n",
              "       6.100e+01, 1.900e+01, 1.200e+01, 9.000e+00, 3.900e+01, 8.000e+00,\n",
              "       2.500e+01, 6.100e+01, 3.900e+01, 1.500e+01, 2.200e+01, 5.000e+00,\n",
              "       1.900e+01, 6.100e+01, 6.100e+01, 6.100e+01, 3.000e+01, 9.000e+00,\n",
              "       4.000e+00, 6.100e+01, 7.000e+00, 2.500e+01, 1.800e+01, 5.000e+00,\n",
              "       6.100e+01, 1.000e+00, 1.400e+01, 4.000e+00, 6.100e+01, 7.000e+00,\n",
              "       9.000e+00, 1.300e+01, 2.000e+00, 1.200e+01, 5.000e+00, 6.100e+01,\n",
              "       9.000e+00, 1.400e+01, 6.100e+01, 3.900e+01, 8.000e+00, 5.000e+00,\n",
              "       6.100e+01, 2.300e+01, 1.000e+00, 2.000e+00, 5.000e+00, 6.400e+01,\n",
              "       6.100e+01, 2.700e+01, 1.200e+01, 1.200e+01, 6.100e+01, 1.300e+01,\n",
              "       9.000e+00, 1.300e+01, 1.900e+01, 2.500e+01, 6.100e+01, 2.300e+01,\n",
              "       5.000e+00, 1.800e+01, 5.000e+00, 6.100e+01, 3.900e+01, 8.000e+00,\n",
              "       5.000e+00, 6.100e+01, 2.000e+00, 1.500e+01, 1.800e+01, 1.500e+01,\n",
              "       7.000e+00, 1.500e+01, 2.200e+01, 5.000e+00, 1.900e+01, 5.400e+01,\n",
              "       6.100e+01, 6.100e+01, 6.100e+01, 2.700e+01, 1.400e+01, 4.000e+00,\n",
              "       6.100e+01, 3.900e+01, 8.000e+00, 5.000e+00, 6.100e+01, 1.300e+01,\n",
              "       1.500e+01, 1.300e+01, 5.000e+00, 6.100e+01, 1.800e+01, 1.000e+00,\n",
              "       3.900e+01, 8.000e+00, 1.900e+01, 6.100e+01, 1.500e+01, 2.100e+01,\n",
              "       3.900e+01, 7.000e+00, 1.800e+01, 1.000e+00, 2.000e+00, 5.000e+00,\n",
              "       5.300e+01])"
            ]
          },
          "execution_count": 74,
          "metadata": {},
          "output_type": "execute_result"
        }
      ],
      "source": [
        "top_secret_df = top_secret_df.flatten(order = \"F\")\n",
        "top_secret_df"
      ]
    },
    {
      "cell_type": "code",
      "execution_count": null,
      "metadata": {
        "colab": {
          "base_uri": "https://localhost:8080/"
        },
        "id": "M7eBQlJ6rsIC",
        "outputId": "127d7167-edc3-4a71-b74b-8b12ceda1451"
      },
      "outputs": [
        {
          "name": "stdout",
          "output_type": "stream",
          "text": [
            "True\n"
          ]
        }
      ],
      "source": [
        "print(np.all(top_secret_df[500:] < 100))"
      ]
    },
    {
      "cell_type": "code",
      "execution_count": null,
      "metadata": {
        "colab": {
          "base_uri": "https://localhost:8080/"
        },
        "id": "Od6cZkckskqV",
        "outputId": "dc8cfc48-d744-4b9a-d9a2-e61985541981"
      },
      "outputs": [
        {
          "name": "stdout",
          "output_type": "stream",
          "text": [
            "344\n"
          ]
        }
      ],
      "source": [
        "top_secret_df[37:465] = np.sqrt(top_secret_df[37:465])\n",
        "top_secret_df = np.rint(top_secret_df)\n",
        "top_secret_df[top_secret_df == 39] = 20\n",
        "print(np.sum(top_secret_df % 2 == 0))"
      ]
    },
    {
      "cell_type": "markdown",
      "metadata": {
        "id": "T3ui38Z9rrqu"
      },
      "source": [
        "### Hint\n",
        "\n",
        "Recall that basic math operations are **vectorized**.  This means you don't have to repeat the process for each item in a list; you can apply the math to the whole thing at once.\n",
        "\n",
        "### Instructions\n",
        "\n",
        "By altering this top secret set of numbers, you will be able to create a message.  Write your own code to complete the steps below.\n",
        "\n",
        "1. Add 14 to every number.\n",
        "2. Multiply every number by 18, then subtract 257.\n",
        "3. Exponentiate every number.  (That is, do e^[number].  You may have to Google how to do this!)\n",
        "4. Square every number.\n",
        "\n",
        "**Checkpoint:** Headquarters has informed you that at this stage of decoding, there should be 352 numbers in the secret message that are below 17.  Write code to check if this is true for your data.\n",
        "\n",
        "\n",
        "5. Turn your one-dimensional array of numbers into a two-dimensional array (matrix) with 5 columns. This conversion should be **column-wise**; that is, the first several elements of the array should all end up in the first **column** of your matrix.\n",
        "6. Separately from your top secret numbers, create an array of all the even numbers between 1 and 382. Name it \"evens\". That is, \"evens\" should contain 2, 4, 6, 8 ..., 382.\n",
        "7. Subtract the \"evens\" vector from the first column of your secret message matrix.\n",
        "8. Subtract 100 from all numbers in the 18-24th rows of the 3rd column.\n",
        "9. Multiply all numbers in the 4th and 5th column by 2.\n",
        "10. Turn your matrix back into a one dimensional array. Again this should be **column-wise**, so that the first column of the matrix becomes the first elements of the array.\n",
        "\n",
        "\n",
        "**Checkpoint:** Headquarters has informed you that at this stage of decoding, all numbers in indices 500 and beyond are below 100.  Write code to check if your numbers fulfill this requirement.\n",
        "\n",
        "11. Take the square root of all numbers in indices 37 to 464.\n",
        "12. Round all numbers to the nearest whole number.\n",
        "13. Replace all instances of the number 39 with 20.\n",
        "\n",
        "**Checkpoint:** Headquarters has informed you that your final message should have 344 even numbers.  Write code to check if your numbers fulfill this requirement.\n",
        "\n",
        "## Part 3: The secret message!\n",
        "\n",
        "Run the following to discover the final message!  Google the first line of this message, if you do not recognize it, to see what it is.\n"
      ]
    },
    {
      "cell_type": "code",
      "execution_count": null,
      "metadata": {
        "colab": {
          "base_uri": "https://localhost:8080/",
          "height": 139
        },
        "id": "v_bB8VNvrrqu",
        "outputId": "0ad39bb4-2916-4e1c-ba84-e7caed0db509"
      },
      "outputs": [
        {
          "data": {
            "application/vnd.google.colaboratory.intrinsic+json": {
              "type": "string"
            },
            "text/plain": [
              "'\\'Twas)brillig,)and)the)slithy)toves)))Did)gyre)and)gimble)in)the)wabe;)All)mimsy)were)the)borogoves,)))And)the)mome)raths)outgrabe.)\"Beware)the)Jabberwock,)my)son!)))The)jaws)that)bite,)the)claws)that)catch!)Beware)the)Jubjub)bird,)and)shun)))The)frumious)Bandersnatch!\")He)took)his)vorpal)sword)in)hand-)))Long)time)the)manxome)foe)he)sought )So)rested)he)by)the)Tumtum)tree)))And)stood)awhile)in)thought.)And,)as)in)uffish)thought)he)stood,)))The)Jabberwock,)with)eyes)of)flame,)Came)whiffling)through)the)tulgey)wood,)))And)burbled)as)it)came!)One,)two!)One,)two!)And)through)and)through)))The)vorpal)blade)went)snicker snack!)He)left)it)dead,)and)with)its)head)))He)went)galumphing)back.)\"And)hast)thou)slain)the)Jabberwock?)))Come)to)my)arms,)my)beamish)boy!)O)frabjous)day!)Callooh!)Callay!\")))He)chortled)in)his)joy.)\\'Twas)brillig,)and)the)slithy)toves)))Did)gyre)and)gimble)in)the)wabe;)All)mimsy)were)the)borogoves,)))And)the)mome)raths)outgrabe.'"
            ]
          },
          "execution_count": 77,
          "metadata": {},
          "output_type": "execute_result"
        }
      ],
      "source": [
        "''.join(map(str, symbols_df.loc[top_secret_df-1]['Symbol']))"
      ]
    }
  ],
  "metadata": {
    "colab": {
      "provenance": []
    },
    "kernelspec": {
      "display_name": "Python 3 (ipykernel)",
      "language": "python",
      "name": "python3"
    },
    "language_info": {
      "name": "python"
    }
  },
  "nbformat": 4,
  "nbformat_minor": 0
}
